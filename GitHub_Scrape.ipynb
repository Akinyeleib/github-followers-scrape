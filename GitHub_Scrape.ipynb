{
 "cells": [
  {
   "cell_type": "code",
   "execution_count": 1,
   "metadata": {},
   "outputs": [],
   "source": [
    "from bs4 import BeautifulSoup as bs"
   ]
  },
  {
   "cell_type": "code",
   "execution_count": 2,
   "metadata": {},
   "outputs": [],
   "source": [
    "import requests as rq"
   ]
  },
  {
   "cell_type": "code",
   "execution_count": 10,
   "metadata": {},
   "outputs": [],
   "source": [
    "following = \"https://github.com/Akinyelei?tab=following\" "
   ]
  },
  {
   "cell_type": "code",
   "execution_count": 11,
   "metadata": {},
   "outputs": [],
   "source": [
    "followers = \"https://github.com/Akinyeleib?tab=followers\""
   ]
  },
  {
   "cell_type": "code",
   "execution_count": 12,
   "metadata": {},
   "outputs": [],
   "source": [
    "link = following"
   ]
  },
  {
   "cell_type": "code",
   "execution_count": 13,
   "metadata": {},
   "outputs": [],
   "source": [
    "res = rq.get(link)"
   ]
  },
  {
   "cell_type": "code",
   "execution_count": 14,
   "metadata": {},
   "outputs": [
    {
     "data": {
      "text/plain": [
       "404"
      ]
     },
     "execution_count": 14,
     "metadata": {},
     "output_type": "execute_result"
    }
   ],
   "source": [
    "res.status_code"
   ]
  },
  {
   "cell_type": "code",
   "execution_count": 6,
   "metadata": {},
   "outputs": [],
   "source": [
    "soup = bs(res.text, 'lxml')"
   ]
  },
  {
   "cell_type": "code",
   "execution_count": 7,
   "metadata": {},
   "outputs": [],
   "source": [
    "# soup"
   ]
  },
  {
   "cell_type": "code",
   "execution_count": 8,
   "metadata": {},
   "outputs": [],
   "source": [
    "items = soup.find(\"div\", class_=\"logged-in env-production page-responsive page-profile mine\")"
   ]
  },
  {
   "cell_type": "code",
   "execution_count": 9,
   "metadata": {},
   "outputs": [],
   "source": [
    "items"
   ]
  },
  {
   "cell_type": "code",
   "execution_count": 10,
   "metadata": {},
   "outputs": [],
   "source": [
    "f = open(\"scrape.html\", \"w\", encoding=\"utf8\")\n",
    "for line in soup:\n",
    "    f.write(str(line))\n",
    "\n",
    "f.close()"
   ]
  },
  {
   "cell_type": "code",
   "execution_count": 11,
   "metadata": {},
   "outputs": [],
   "source": [
    "# read = open(\"scrape.html\", \"r\", encoding=\"utf8\")\n",
    "# for line in read:\n",
    "#     print(line)"
   ]
  },
  {
   "cell_type": "code",
   "execution_count": 12,
   "metadata": {},
   "outputs": [],
   "source": [
    "items = soup.find_all(\"span\", class_=\"Link--secondary\")"
   ]
  },
  {
   "cell_type": "code",
   "execution_count": 13,
   "metadata": {},
   "outputs": [
    {
     "data": {
      "text/plain": [
       "41"
      ]
     },
     "execution_count": 13,
     "metadata": {},
     "output_type": "execute_result"
    }
   ],
   "source": [
    "len(items)\n",
    "# items"
   ]
  },
  {
   "cell_type": "code",
   "execution_count": 14,
   "metadata": {},
   "outputs": [],
   "source": [
    "following = []\n",
    "for item in items:\n",
    "    following.append(item.text)\n",
    "#     print(item.text)"
   ]
  },
  {
   "cell_type": "code",
   "execution_count": 15,
   "metadata": {},
   "outputs": [
    {
     "name": "stdout",
     "output_type": "stream",
     "text": [
      "Tinkapaul,\tDJTOHBEX,\tTobigr03,\tAkinsanmi23,\tOlaitanbosun,\tThemarv77,\tSagaciousprince,\tOayanfe,\tGoldenson23,\tVgod0,\tChimajunior,\tLekan128,\tcrisovas,\tpapillo1,\tOpeyemi86,\tsofiaunnie,\tPaulokla,\tKingJoker101,\tAbdullateef1000,\tSammygee0110,\tChee123-proj,\tTubiOb,\txDAREY,\tlawson1000,\tStevixent,\tAyodejiOmole,\tAyomidefln,\tcodetech18,\tochinawata01,\tShittu-ayomide,\tSamAkiode,\tlolakin,\teni01,\tayetolusamuel,\tOgizzy,\tJoshokelola,\tMastersam07,\tmenabaddo,\tPrinceadeola,\timoleBytes,\tDeekerD,\t"
     ]
    }
   ],
   "source": [
    "for follow in following:\n",
    "    print(follow, end=',\\t')"
   ]
  },
  {
   "cell_type": "markdown",
   "metadata": {},
   "source": [
    "## Conversion to Function"
   ]
  },
  {
   "cell_type": "code",
   "execution_count": 16,
   "metadata": {},
   "outputs": [],
   "source": [
    "from bs4 import BeautifulSoup as bs\n",
    "import requests as rq\n",
    "\n",
    "def github_follow(link):\n",
    "    soup = bs(rq.get(link).text, 'lxml')\n",
    "    items = soup.find_all(\"span\", class_=\"Link--secondary\")\n",
    "    \n",
    "    users = []\n",
    "    for item in items:\n",
    "        users.append(item.text)\n",
    "    return users"
   ]
  },
  {
   "cell_type": "code",
   "execution_count": 17,
   "metadata": {},
   "outputs": [],
   "source": [
    "followers = \"https://github.com/Akinyeleib?tab=followers\"\n",
    "followers_count = github_follow(followers)"
   ]
  },
  {
   "cell_type": "code",
   "execution_count": 18,
   "metadata": {},
   "outputs": [],
   "source": [
    "following = \"https://github.com/Akinyeleib?tab=following\" \n",
    "following_count = github_follow(following)"
   ]
  },
  {
   "cell_type": "code",
   "execution_count": 19,
   "metadata": {},
   "outputs": [
    {
     "name": "stdout",
     "output_type": "stream",
     "text": [
      "followers: 32\n",
      "following: 41\n"
     ]
    }
   ],
   "source": [
    "print(f\"followers: {len(followers_count)}\")\n",
    "print(f\"following: {len(following_count)}\")"
   ]
  },
  {
   "cell_type": "code",
   "execution_count": 20,
   "metadata": {},
   "outputs": [
    {
     "name": "stdout",
     "output_type": "stream",
     "text": [
      "Tinkapaul,\tDJTOHBEX,\tTobigr03,\tAkinsanmi23,\tOlaitanbosun,\tThemarv77,\tSagaciousprince,\tOayanfe,\tGoldenson23,\tVgod0,\tChimajunior,\tLekan128,\tcrisovas,\tpapillo1,\tOpeyemi86,\tsofiaunnie,\tPaulokla,\tKingJoker101,\tAbdullateef1000,\tSammygee0110,\tChee123-proj,\tTubiOb,\txDAREY,\tlawson1000,\tStevixent,\tAyodejiOmole,\tAyomidefln,\tcodetech18,\tochinawata01,\tShittu-ayomide,\tSamAkiode,\tlolakin,\teni01,\tayetolusamuel,\tOgizzy,\tJoshokelola,\tMastersam07,\tmenabaddo,\tPrinceadeola,\timoleBytes,\tDeekerD,\t"
     ]
    }
   ],
   "source": [
    "for follow in following_count:\n",
    "    print(follow, end=',\\t')"
   ]
  },
  {
   "cell_type": "code",
   "execution_count": 21,
   "metadata": {},
   "outputs": [
    {
     "name": "stdout",
     "output_type": "stream",
     "text": [
      "DJTOHBEX,\tSammygee0110,\tPaulokla,\tAbdeenM,\tStevixent,\tAyodejiOmole,\teni01,\tAyomidefln,\tTobigr03,\tSagaciousprince,\tGoldenson23,\tcodetech18,\tChimajunior,\tVgod0,\tLekan128,\tSamAkiode,\tcrisovas,\tsofiaunnie,\tKingJoker101,\tOpeyemi86,\tTinkapaul,\tChee123-proj,\tTubiOb,\tDeekerD,\tlawson1000,\txDAREY,\tlolakin,\tayetolusamuel,\tJoshokelola,\tOgizzy,\timoleBytes,\tmenabaddo,\t"
     ]
    }
   ],
   "source": [
    "for follow in followers_count:\n",
    "    print(follow, end=',\\t')"
   ]
  },
  {
   "cell_type": "code",
   "execution_count": null,
   "metadata": {},
   "outputs": [],
   "source": []
  },
  {
   "cell_type": "markdown",
   "metadata": {},
   "source": [
    "## Finding Difference and Intersect"
   ]
  },
  {
   "cell_type": "code",
   "execution_count": 22,
   "metadata": {},
   "outputs": [],
   "source": [
    "length = following_count if len(following_count) > len(followers_count) else followers_count"
   ]
  },
  {
   "cell_type": "code",
   "execution_count": 1,
   "metadata": {},
   "outputs": [],
   "source": [
    "# length"
   ]
  },
  {
   "cell_type": "code",
   "execution_count": 24,
   "metadata": {},
   "outputs": [],
   "source": [
    "def find_difference(list1, list2):\n",
    "    result = []\n",
    "    for name in list1:\n",
    "        if name not in list2:\n",
    "            result.append(name)\n",
    "    return result"
   ]
  },
  {
   "cell_type": "code",
   "execution_count": 25,
   "metadata": {},
   "outputs": [
    {
     "data": {
      "text/plain": [
       "['AbdeenM']"
      ]
     },
     "execution_count": 25,
     "metadata": {},
     "output_type": "execute_result"
    }
   ],
   "source": [
    "find_difference(followers_count, following_count)"
   ]
  },
  {
   "cell_type": "code",
   "execution_count": 26,
   "metadata": {},
   "outputs": [
    {
     "data": {
      "text/plain": [
       "['Akinsanmi23',\n",
       " 'Olaitanbosun',\n",
       " 'Themarv77',\n",
       " 'Oayanfe',\n",
       " 'papillo1',\n",
       " 'Abdullateef1000',\n",
       " 'ochinawata01',\n",
       " 'Shittu-ayomide',\n",
       " 'Mastersam07',\n",
       " 'Princeadeola']"
      ]
     },
     "execution_count": 26,
     "metadata": {},
     "output_type": "execute_result"
    }
   ],
   "source": [
    "find_difference(following_count, followers_count)"
   ]
  },
  {
   "cell_type": "code",
   "execution_count": null,
   "metadata": {},
   "outputs": [],
   "source": []
  }
 ],
 "metadata": {
  "kernelspec": {
   "display_name": "Python 3",
   "language": "python",
   "name": "python3"
  },
  "language_info": {
   "codemirror_mode": {
    "name": "ipython",
    "version": 3
   },
   "file_extension": ".py",
   "mimetype": "text/x-python",
   "name": "python",
   "nbconvert_exporter": "python",
   "pygments_lexer": "ipython3",
   "version": "3.8.3"
  }
 },
 "nbformat": 4,
 "nbformat_minor": 4
}
