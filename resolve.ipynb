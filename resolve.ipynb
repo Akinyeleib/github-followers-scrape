{
 "cells": [
  {
   "cell_type": "code",
   "execution_count": 1,
   "metadata": {},
   "outputs": [],
   "source": [
    "from bs4 import BeautifulSoup as bs\n",
    "import requests as rq"
   ]
  },
  {
   "cell_type": "code",
   "execution_count": 2,
   "metadata": {},
   "outputs": [],
   "source": [
    "# username = input('Enter github Username: ').strip()\n",
    "username = 'akinyeleib'\n",
    "# print(f'name: {username}.')"
   ]
  },
  {
   "cell_type": "code",
   "execution_count": 3,
   "metadata": {},
   "outputs": [],
   "source": [
    "res = rq.get(f'https://github.com/{username}')"
   ]
  },
  {
   "cell_type": "markdown",
   "metadata": {},
   "source": [
    "## Function to fetch users"
   ]
  },
  {
   "cell_type": "code",
   "execution_count": 4,
   "metadata": {},
   "outputs": [],
   "source": [
    "def github_follow(context):\n",
    "    soup = bs(rq.get(f\"https://github.com/{username}?tab={context}\").text, 'lxml')\n",
    "    items = soup.find_all(\"span\", class_=\"Link--secondary\")\n",
    "    \n",
    "    users = []\n",
    "    for item in items:\n",
    "        users.append(item.text)\n",
    "    return users"
   ]
  },
  {
   "cell_type": "markdown",
   "metadata": {},
   "source": [
    "## Finding Difference and Intersect"
   ]
  },
  {
   "cell_type": "code",
   "execution_count": 8,
   "metadata": {},
   "outputs": [],
   "source": [
    "def find_difference(list1, list2):\n",
    "    result = []\n",
    "    for name in list1:\n",
    "        if name not in list2:\n",
    "            result.append(name)\n",
    "    return result"
   ]
  },
  {
   "cell_type": "code",
   "execution_count": 5,
   "metadata": {},
   "outputs": [],
   "source": [
    "status = res.status_code"
   ]
  },
  {
   "cell_type": "code",
   "execution_count": 10,
   "metadata": {},
   "outputs": [
    {
     "name": "stdout",
     "output_type": "stream",
     "text": [
      "Account found for user: akinyeleib\n",
      "akinyeleib has 31 followers\n",
      "akinyeleib is following 41 users\n",
      "akinyeleib has 10 not following back\n",
      "akinyeleib is not following 0 back\n",
      "followers: ['DJTOHBEX', 'Sammygee0110', 'Paulokla', 'Stevixent', 'AyodejiOmole', 'eni01', 'Ayomidefln', 'Tobigr03', 'Sagaciousprince', 'Goldenson23', 'codetech18', 'Chimajunior', 'Vgod0', 'Lekan128', 'SamAkiode', 'crisovas', 'sofiaunnie', 'KingJoker101', 'Opeyemi86', 'Tinkapaul', 'Chee123-proj', 'TubiOb', 'DeekerD', 'lawson1000', 'xDAREY', 'lolakin', 'ayetolusamuel', 'Joshokelola', 'Ogizzy', 'imoleBytes', 'menabaddo']\n"
     ]
    }
   ],
   "source": [
    "if status == 200:\n",
    "    print(f'Account found for user: {username}')\n",
    "    \n",
    "    followers = github_follow(\"followers\")\n",
    "    followers_count = len(followers)\n",
    "    print(f'{username} has {followers_count} followers')\n",
    "    \n",
    "    following = github_follow(\"following\")\n",
    "    following_count = len(following)\n",
    "    print(f'{username} is following {following_count} users')\n",
    "    \n",
    "    following_not_followers = find_difference(following, followers)\n",
    "    following_not_followers_count = len(following_not_followers)\n",
    "    print(f'{username} has {following_not_followers_count} not following back')\n",
    "    \n",
    "    followers_not_following = find_difference(followers, following)\n",
    "    followers_not_following_count = len(followers_not_following)\n",
    "    print(f'{username} is not following {followers_not_following_count} back')\n",
    "    \n",
    "    print(f\"followers: {followers}\")\n",
    "elif status == 404:\n",
    "    print(f'404 bad request\\nPage not found!\\nAccount not found for user: {username}')\n"
   ]
  },
  {
   "cell_type": "code",
   "execution_count": null,
   "metadata": {},
   "outputs": [],
   "source": []
  }
 ],
 "metadata": {
  "kernelspec": {
   "display_name": "Python 3",
   "language": "python",
   "name": "python3"
  },
  "language_info": {
   "codemirror_mode": {
    "name": "ipython",
    "version": 3
   },
   "file_extension": ".py",
   "mimetype": "text/x-python",
   "name": "python",
   "nbconvert_exporter": "python",
   "pygments_lexer": "ipython3",
   "version": "3.8.3"
  }
 },
 "nbformat": 4,
 "nbformat_minor": 4
}
